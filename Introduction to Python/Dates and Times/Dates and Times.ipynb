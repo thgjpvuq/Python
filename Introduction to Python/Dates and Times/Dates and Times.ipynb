{
 "cells": [
  {
   "cell_type": "markdown",
   "id": "0fa70d40",
   "metadata": {},
   "source": [
    "# Dates and Times"
   ]
  },
  {
   "cell_type": "markdown",
   "id": "7771c310",
   "metadata": {},
   "source": [
    "**importing and reading potus csv**"
   ]
  },
  {
   "cell_type": "code",
   "execution_count": 1,
   "id": "42539906",
   "metadata": {},
   "outputs": [],
   "source": [
    "from csv import reader\n",
    "opened_file = open('potus_visitors_2015.csv', encoding='utf-8')\n",
    "read_file = reader(opened_file)\n",
    "potus = list(read_file)\n",
    "\n",
    "potus_header = potus[0]\n",
    "potus = potus[1:]"
   ]
  },
  {
   "cell_type": "code",
   "execution_count": 2,
   "id": "afdb0dd4",
   "metadata": {},
   "outputs": [
    {
     "name": "stdout",
     "output_type": "stream",
     "text": [
      "1911-06-16 00:00:00\n",
      "1969-07-20 20:17:00\n"
     ]
    }
   ],
   "source": [
    "import datetime as dt\n",
    "\n",
    "ibm_founded = dt.datetime(1911,6,16)\n",
    "print(ibm_founded)\n",
    "\n",
    "man_on_moon = dt.datetime(1969,7,20,20,17)\n",
    "print(man_on_moon)"
   ]
  },
  {
   "cell_type": "code",
   "execution_count": 3,
   "id": "1d008d66",
   "metadata": {},
   "outputs": [
    {
     "name": "stdout",
     "output_type": "stream",
     "text": [
      "['name', 'appt_made_date', 'appt_start_date', 'appt_end_date', 'visitee_namelast', 'visitee_namefirst', 'meeting_room', 'description']\n"
     ]
    }
   ],
   "source": [
    "print(potus_header)"
   ]
  },
  {
   "cell_type": "code",
   "execution_count": 4,
   "id": "9fffa7bf",
   "metadata": {},
   "outputs": [
    {
     "name": "stdout",
     "output_type": "stream",
     "text": [
      "[['Joshua T. Blanton', '2014-12-18T00:00:00', '1/6/15 9:30', '1/6/15 23:59', '', 'potus', 'west wing', 'JointService Military Honor Guard'], ['Jack T. Gutting', '2014-12-18T00:00:00', '1/6/15 9:30', '1/6/15 23:59', '', 'potus', 'west wing', 'JointService Military Honor Guard'], ['Bradley T. Guiles', '2014-12-18T00:00:00', '1/6/15 9:30', '1/6/15 23:59', '', 'potus', 'west wing', 'JointService Military Honor Guard']]\n"
     ]
    }
   ],
   "source": [
    "print(potus[:3])"
   ]
  },
  {
   "cell_type": "code",
   "execution_count": 5,
   "id": "0535f0d7",
   "metadata": {},
   "outputs": [
    {
     "name": "stdout",
     "output_type": "stream",
     "text": [
      "1/6/15 9:30\n"
     ]
    }
   ],
   "source": [
    "print(potus[0][2])"
   ]
  },
  {
   "cell_type": "markdown",
   "id": "b89a189a",
   "metadata": {},
   "source": [
    "**datetime.datetime class**\n",
    "\n",
    "---"
   ]
  },
  {
   "cell_type": "code",
   "execution_count": 6,
   "id": "5d2188a8",
   "metadata": {},
   "outputs": [],
   "source": [
    "date_format = \"%m/%d/%y %H:%M\"\n",
    "for row in potus:\n",
    "    start_date = row[2]\n",
    "    start_date = dt.datetime.strptime(start_date, date_format)\n",
    "    row[2] = start_date"
   ]
  },
  {
   "cell_type": "code",
   "execution_count": 7,
   "id": "e9f12755",
   "metadata": {},
   "outputs": [],
   "source": [
    "visitors_per_month = {}\n",
    "\n",
    "for row in potus:\n",
    "    start_date_obj = row[2]\n",
    "    start_date_str = start_date_obj.strftime(\"%B, %Y\")\n",
    "    if start_date_str not in visitors_per_month:\n",
    "        visitors_per_month[start_date_str] = 1\n",
    "    else:\n",
    "        visitors_per_month[start_date_str] += 1"
   ]
  },
  {
   "cell_type": "markdown",
   "id": "22395b1e",
   "metadata": {},
   "source": [
    "**datetime.time class**\n",
    "\n",
    "---"
   ]
  },
  {
   "cell_type": "markdown",
   "id": "1bdb5c82",
   "metadata": {},
   "source": [
    "_Example:_"
   ]
  },
  {
   "cell_type": "code",
   "execution_count": 8,
   "id": "d203c1de",
   "metadata": {},
   "outputs": [
    {
     "name": "stdout",
     "output_type": "stream",
     "text": [
      "08:00:05\n",
      "12:30:00\n",
      "1900-01-01 08:05:00\n"
     ]
    }
   ],
   "source": [
    "time_1 = dt.time(8,0,5)\n",
    "print(time_1)\n",
    "\n",
    "time_2 = dt.datetime(1999,11,15,12,30)\n",
    "print(time_2.time())\n",
    "\n",
    "time_str = '8:05'\n",
    "time_dt = dt.datetime.strptime(time_str, \"%H:%M\")\n",
    "print(time_dt)"
   ]
  },
  {
   "cell_type": "code",
   "execution_count": 9,
   "id": "1bbd7d43",
   "metadata": {},
   "outputs": [],
   "source": [
    "appt_times = []\n",
    "\n",
    "for row in potus:\n",
    "    dt_obj = row[2]\n",
    "    dt_time = dt_obj.time()\n",
    "    appt_times.append(dt_time)"
   ]
  },
  {
   "cell_type": "markdown",
   "id": "3de870bf",
   "metadata": {},
   "source": [
    "**Comparing two datetime.time objects**\n",
    "\n",
    "---"
   ]
  },
  {
   "cell_type": "markdown",
   "id": "c1d70928",
   "metadata": {},
   "source": [
    "_Example:_"
   ]
  },
  {
   "cell_type": "code",
   "execution_count": 10,
   "id": "390ca3f5",
   "metadata": {},
   "outputs": [
    {
     "name": "stdout",
     "output_type": "stream",
     "text": [
      "True\n",
      "03:06:00\n",
      "15:30:00\n"
     ]
    }
   ],
   "source": [
    "t1 = dt.time(15,30)\n",
    "t2 = dt.time(10,45)\n",
    "t3 = dt.time(3,6)\n",
    "\n",
    "comparison = t1 > t2\n",
    "print(comparison)\n",
    "\n",
    "times = [t1,t2,t3]\n",
    "print(min(times))\n",
    "print(max(times))"
   ]
  },
  {
   "cell_type": "code",
   "execution_count": 11,
   "id": "912a7c3f",
   "metadata": {},
   "outputs": [
    {
     "name": "stdout",
     "output_type": "stream",
     "text": [
      "06:00:00 21:30:00\n"
     ]
    }
   ],
   "source": [
    "min_time = min(appt_times)\n",
    "max_time = max(appt_times)\n",
    "\n",
    "print(min_time, max_time)"
   ]
  },
  {
   "cell_type": "markdown",
   "id": "f04999a2",
   "metadata": {},
   "source": [
    "**datetime.timedelta class**\n",
    "\n",
    "---"
   ]
  },
  {
   "cell_type": "markdown",
   "id": "f1a8293c",
   "metadata": {},
   "source": [
    "_Example:_"
   ]
  },
  {
   "cell_type": "code",
   "execution_count": 12,
   "id": "23fe3bf1",
   "metadata": {},
   "outputs": [
    {
     "name": "stdout",
     "output_type": "stream",
     "text": [
      "16 days, 0:00:00\n",
      "<class 'datetime.timedelta'>\n",
      "2 days, 0:00:00\n",
      "21 days, 0:00:00\n",
      "1:10:00\n",
      "1963-02-28\n",
      "1244 days, 0:00:00 2016-07-19 00:00:00 2001-01-01 07:24:13\n"
     ]
    }
   ],
   "source": [
    "dt1 = dt.datetime(2022, 4, 14)\n",
    "dt2 = dt.datetime(2022, 3, 29)\n",
    "print(dt1 - dt2)\n",
    "\n",
    "diff = dt1 - dt2\n",
    "print(type(diff))\n",
    "\n",
    "two_days = dt.timedelta(2)\n",
    "print(two_days)\n",
    "\n",
    "three_weeks = dt.timedelta(weeks=3)\n",
    "print(three_weeks)\n",
    "\n",
    "one_hr_ten_mins = dt.timedelta(hours=1, minutes=10)\n",
    "print(one_hr_ten_mins)\n",
    "\n",
    "d1 = dt.date(1963, 2, 21)\n",
    "d1_plus_1wk = d1 + dt.timedelta(weeks=1)\n",
    "print(d1_plus_1wk)\n",
    "\n",
    "\n",
    "dt_1 = dt.datetime(1981, 1, 31)\n",
    "dt_2 = dt.datetime(1984, 6, 28)\n",
    "dt_3 = dt.datetime(2016, 5, 24)\n",
    "dt_4 = dt.datetime(2001, 1, 1, 8, 24, 13)\n",
    "\n",
    "answer_1 = dt_2 - dt_1\n",
    "answer_2 = dt_3 + dt.timedelta(days=56)\n",
    "answer_3 = dt_4 - dt.timedelta(seconds=3600)\n",
    "\n",
    "print(answer_1, answer_2, answer_3)"
   ]
  },
  {
   "cell_type": "markdown",
   "id": "af359ab2",
   "metadata": {},
   "source": [
    "The following converts appt_end_date to datetime objects"
   ]
  },
  {
   "cell_type": "code",
   "execution_count": 13,
   "id": "2ad337e8",
   "metadata": {},
   "outputs": [],
   "source": [
    "for row in potus:\n",
    "    end_date = row[3]\n",
    "    end_date = dt.datetime.strptime(end_date, \"%m/%d/%y %H:%M\")\n",
    "    row[3] = end_date"
   ]
  },
  {
   "cell_type": "code",
   "execution_count": 14,
   "id": "501488e3",
   "metadata": {},
   "outputs": [],
   "source": [
    "appt_lengths = {}\n",
    "\n",
    "for row in potus:\n",
    "    appt_start_date = row[2]\n",
    "    appt_end_date = row[3]\n",
    "    length = appt_end_date - appt_start_date\n",
    "    if length not in appt_lengths:\n",
    "        appt_lengths[length] = 1\n",
    "    else:\n",
    "        appt_lengths[length] += 1\n",
    "        \n",
    "min_length = min(appt_lengths)\n",
    "max_length = max(appt_lengths)"
   ]
  },
  {
   "cell_type": "code",
   "execution_count": null,
   "id": "c9dd76fc",
   "metadata": {},
   "outputs": [],
   "source": []
  }
 ],
 "metadata": {
  "kernelspec": {
   "display_name": "Python 3 (ipykernel)",
   "language": "python",
   "name": "python3"
  },
  "language_info": {
   "codemirror_mode": {
    "name": "ipython",
    "version": 3
   },
   "file_extension": ".py",
   "mimetype": "text/x-python",
   "name": "python",
   "nbconvert_exporter": "python",
   "pygments_lexer": "ipython3",
   "version": "3.9.12"
  }
 },
 "nbformat": 4,
 "nbformat_minor": 5
}
