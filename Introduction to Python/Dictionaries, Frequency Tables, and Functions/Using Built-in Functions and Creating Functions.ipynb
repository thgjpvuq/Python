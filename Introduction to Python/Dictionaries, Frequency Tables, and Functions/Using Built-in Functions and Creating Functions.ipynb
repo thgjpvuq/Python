{
 "cells": [
  {
   "cell_type": "markdown",
   "id": "9f30bacb",
   "metadata": {},
   "source": [
    "# Functions"
   ]
  },
  {
   "cell_type": "markdown",
   "id": "9ef9a3ba",
   "metadata": {},
   "source": [
    "## Built-in Functions"
   ]
  },
  {
   "cell_type": "code",
   "execution_count": 1,
   "id": "2fb28f36",
   "metadata": {},
   "outputs": [
    {
     "name": "stdout",
     "output_type": "stream",
     "text": [
      "24\n",
      "103945\n",
      "103945\n"
     ]
    }
   ],
   "source": [
    "a_list = [4444, 8897, 6340, 9896, 4835, 4324, 10, 6445,\n",
    "          661, 1246, 1000, 7429, 1376, 8121, 647, 1280,\n",
    "          3993, 4881, 9500, 6701, 1199, 6251, 4432, 37]\n",
    "\n",
    "length = 0\n",
    "\n",
    "for element in a_list:\n",
    "    length += 1\n",
    "    \n",
    "print(length)\n",
    "\n",
    "sum_manual = 0\n",
    "\n",
    "for element in a_list:\n",
    "    sum_manual += element\n",
    "    \n",
    "print(sum_manual)\n",
    "print(sum(a_list))"
   ]
  },
  {
   "cell_type": "code",
   "execution_count": 2,
   "id": "cc166d2c",
   "metadata": {},
   "outputs": [
    {
     "name": "stdout",
     "output_type": "stream",
     "text": [
      "{'4+': 3, '9+': 1, '12+': 2, '17+': 2}\n"
     ]
    }
   ],
   "source": [
    "ratings = ['4+', '4+', '4+', '9+', '12+', '12+', '17+', '17+']\n",
    "\n",
    "content_ratings = {}\n",
    "\n",
    "for rating in ratings:\n",
    "    if rating in content_ratings:\n",
    "        content_ratings[rating] += 1\n",
    "    else:\n",
    "        content_ratings[rating] = 1\n",
    "        \n",
    "print(content_ratings)"
   ]
  },
  {
   "cell_type": "code",
   "execution_count": 3,
   "id": "2cf06a02",
   "metadata": {},
   "outputs": [
    {
     "name": "stdout",
     "output_type": "stream",
     "text": [
      "100\n",
      "256\n"
     ]
    }
   ],
   "source": [
    "def square(a_number):\n",
    "    squared_number = a_number * a_number\n",
    "    return squared_number\n",
    "\n",
    "squared_10 = square(a_number=10)\n",
    "squared_16 = square(a_number=16)\n",
    "\n",
    "print(squared_10)\n",
    "print(squared_16)"
   ]
  },
  {
   "cell_type": "markdown",
   "id": "ec7065bd",
   "metadata": {},
   "source": [
    "## Custom Functions"
   ]
  },
  {
   "cell_type": "code",
   "execution_count": 4,
   "id": "9c0f3d9c",
   "metadata": {},
   "outputs": [
    {
     "name": "stdout",
     "output_type": "stream",
     "text": [
      "40\n",
      "100\n"
     ]
    }
   ],
   "source": [
    "def add_10(n):\n",
    "    n = n + 10\n",
    "    return n\n",
    "\n",
    "add_30 = add_10(n=30)\n",
    "add_90 = add_10(n=90)\n",
    "\n",
    "print(add_30)\n",
    "print(add_90)"
   ]
  },
  {
   "cell_type": "code",
   "execution_count": 5,
   "id": "1330a7cb",
   "metadata": {},
   "outputs": [
    {
     "name": "stdout",
     "output_type": "stream",
     "text": [
      "July 15, 2006\n",
      "February 4, 2004\n",
      "June 9, 1949\n"
     ]
    }
   ],
   "source": [
    "def date(month, day, year):\n",
    "    return month + \" \" + str(day) + \", \" + str(year)\n",
    "\n",
    "print(date('July', 15 , 2006))\n",
    "print(date('February', 4 , 2004))\n",
    "print(date('June', 9 , 1949))"
   ]
  },
  {
   "cell_type": "markdown",
   "id": "4cef6cd3",
   "metadata": {},
   "source": [
    "## Omitting Variable Assignment"
   ]
  },
  {
   "cell_type": "code",
   "execution_count": 6,
   "id": "30da5781",
   "metadata": {},
   "outputs": [
    {
     "name": "stdout",
     "output_type": "stream",
     "text": [
      "36\n",
      "121\n"
     ]
    }
   ],
   "source": [
    "def square(n):\n",
    "    return n * n\n",
    "\n",
    "squared_6 = square(6)\n",
    "squared_11 = square(11)\n",
    "\n",
    "print(squared_6)\n",
    "print(squared_11)"
   ]
  },
  {
   "cell_type": "code",
   "execution_count": null,
   "id": "75f003ed",
   "metadata": {},
   "outputs": [],
   "source": []
  }
 ],
 "metadata": {
  "kernelspec": {
   "display_name": "Python 3 (ipykernel)",
   "language": "python",
   "name": "python3"
  },
  "language_info": {
   "codemirror_mode": {
    "name": "ipython",
    "version": 3
   },
   "file_extension": ".py",
   "mimetype": "text/x-python",
   "name": "python",
   "nbconvert_exporter": "python",
   "pygments_lexer": "ipython3",
   "version": "3.9.12"
  }
 },
 "nbformat": 4,
 "nbformat_minor": 5
}
