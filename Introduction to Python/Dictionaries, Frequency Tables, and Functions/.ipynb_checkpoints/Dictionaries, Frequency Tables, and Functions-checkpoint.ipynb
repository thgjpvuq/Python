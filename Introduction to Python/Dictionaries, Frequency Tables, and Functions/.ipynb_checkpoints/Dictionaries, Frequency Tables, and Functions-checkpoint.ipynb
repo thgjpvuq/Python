{
 "cells": [
  {
   "cell_type": "markdown",
   "id": "65be502d",
   "metadata": {},
   "source": [
    "# Dictionaries"
   ]
  },
  {
   "cell_type": "code",
   "execution_count": 1,
   "id": "5c11f381",
   "metadata": {},
   "outputs": [],
   "source": [
    "content_ratings = ['4+', '9+', '12+', '17+']\n",
    "numbers = [4433, 987, 1155, 622]"
   ]
  },
  {
   "cell_type": "code",
   "execution_count": 2,
   "id": "3915b497",
   "metadata": {},
   "outputs": [
    {
     "data": {
      "text/plain": [
       "[['4+', '9+', '12+', '17+'], [4433, 987, 1155, 622]]"
      ]
     },
     "execution_count": 2,
     "metadata": {},
     "output_type": "execute_result"
    }
   ],
   "source": [
    "content_rating_numbers = [content_ratings, numbers]\n",
    "content_rating_numbers"
   ]
  },
  {
   "cell_type": "code",
   "execution_count": 3,
   "id": "8b5706f1",
   "metadata": {},
   "outputs": [
    {
     "name": "stdout",
     "output_type": "stream",
     "text": [
      "{'4+': 4433, '9+': 987, '12+': 1155, '17+': 622}\n"
     ]
    }
   ],
   "source": [
    "content_ratings = {'4+': 4433, '9+': 987, '12+': 1155, '17+': 622}\n",
    "print(content_ratings)"
   ]
  },
  {
   "cell_type": "code",
   "execution_count": 4,
   "id": "63dccedb",
   "metadata": {},
   "outputs": [
    {
     "name": "stdout",
     "output_type": "stream",
     "text": [
      "987\n",
      "622\n"
     ]
    }
   ],
   "source": [
    "over_9 = content_ratings['9+']\n",
    "over_17 = content_ratings['17+']\n",
    "\n",
    "print(over_9)\n",
    "print(over_17)"
   ]
  },
  {
   "cell_type": "code",
   "execution_count": 5,
   "id": "0507b3f2",
   "metadata": {},
   "outputs": [],
   "source": [
    "content_ratings = {}\n",
    "content_ratings['12+'] = 1155\n",
    "content_ratings['17+'] = 622\n",
    "content_ratings['4+'] = 4433\n",
    "content_ratings['9+'] = 987"
   ]
  },
  {
   "cell_type": "code",
   "execution_count": 6,
   "id": "241af3ac",
   "metadata": {},
   "outputs": [
    {
     "name": "stdout",
     "output_type": "stream",
     "text": [
      "1155\n"
     ]
    }
   ],
   "source": [
    "over_12_n_apps = content_ratings['12+']\n",
    "print(over_12_n_apps)"
   ]
  },
  {
   "cell_type": "code",
   "execution_count": 7,
   "id": "261350a9",
   "metadata": {},
   "outputs": [],
   "source": [
    "d_1 = {'key_1': 'first_value', \n",
    " 'key_2': 2,\n",
    " 'key_3': 3.14,\n",
    " 'key_4': True,\n",
    " 'key_5': [4,2,1],\n",
    " 'key_6': {'inner_key' : 6}\n",
    " }"
   ]
  },
  {
   "cell_type": "markdown",
   "id": "b46f9da9",
   "metadata": {},
   "source": [
    "# Dictionaries and Frequency Tables"
   ]
  },
  {
   "cell_type": "code",
   "execution_count": 8,
   "id": "fc200aee",
   "metadata": {},
   "outputs": [],
   "source": [
    "is_in_dictionary_1 = '9+' in content_ratings\n",
    "is_in_dictionary_2 = 987 in content_ratings"
   ]
  },
  {
   "cell_type": "code",
   "execution_count": 9,
   "id": "d12b99d7",
   "metadata": {},
   "outputs": [
    {
     "name": "stdout",
     "output_type": "stream",
     "text": [
      "It exists\n"
     ]
    }
   ],
   "source": [
    "if '17+' in content_ratings:\n",
    "    result = 'It exists'\n",
    "    \n",
    "print(result)"
   ]
  },
  {
   "cell_type": "code",
   "execution_count": 10,
   "id": "47ad9f5d",
   "metadata": {},
   "outputs": [],
   "source": [
    "content_ratings = {'4+': 622, '12+': '1155', '9+': 987, '17+': 4433}"
   ]
  },
  {
   "cell_type": "code",
   "execution_count": 11,
   "id": "51457328",
   "metadata": {},
   "outputs": [
    {
     "name": "stdout",
     "output_type": "stream",
     "text": [
      "{'4+': 4433, '12+': 1155, '9+': 987, '17+': 622}\n"
     ]
    }
   ],
   "source": [
    "temp = content_ratings['4+']\n",
    "content_ratings['4+'] = content_ratings['17+']\n",
    "content_ratings['17+'] = temp\n",
    "content_ratings['12+'] = 1155\n",
    "print(content_ratings)"
   ]
  },
  {
   "cell_type": "markdown",
   "id": "5c0aab78-f852-455e-88ba-5e00d7ea7752",
   "metadata": {},
   "source": [
    "Creating a dictionary with the appropriate keys and 0 for all values. ie. { '4+' : 0 }"
   ]
  },
  {
   "cell_type": "code",
   "execution_count": 14,
   "id": "37e2ae34-aae7-4845-a404-7fb88ee80f3c",
   "metadata": {
    "collapsed": true,
    "jupyter": {
     "outputs_hidden": true
    },
    "tags": []
   },
   "outputs": [
    {
     "ename": "NameError",
     "evalue": "name 'apps_data' is not defined",
     "output_type": "error",
     "traceback": [
      "\u001b[1;31m---------------------------------------------------------------------------\u001b[0m",
      "\u001b[1;31mNameError\u001b[0m                                 Traceback (most recent call last)",
      "Input \u001b[1;32mIn [14]\u001b[0m, in \u001b[0;36m<cell line: 3>\u001b[1;34m()\u001b[0m\n\u001b[0;32m      1\u001b[0m content_ratings \u001b[38;5;241m=\u001b[39m {\u001b[38;5;124m'\u001b[39m\u001b[38;5;124m4+\u001b[39m\u001b[38;5;124m'\u001b[39m: \u001b[38;5;241m0\u001b[39m, \u001b[38;5;124m'\u001b[39m\u001b[38;5;124m9+\u001b[39m\u001b[38;5;124m'\u001b[39m: \u001b[38;5;241m0\u001b[39m, \u001b[38;5;124m'\u001b[39m\u001b[38;5;124m12+\u001b[39m\u001b[38;5;124m'\u001b[39m: \u001b[38;5;241m0\u001b[39m, \u001b[38;5;124m'\u001b[39m\u001b[38;5;124m17+\u001b[39m\u001b[38;5;124m'\u001b[39m: \u001b[38;5;241m0\u001b[39m}\n\u001b[1;32m----> 3\u001b[0m \u001b[38;5;28;01mfor\u001b[39;00m row \u001b[38;5;129;01min\u001b[39;00m \u001b[43mapps_data\u001b[49m[\u001b[38;5;241m1\u001b[39m:]:\n\u001b[0;32m      4\u001b[0m     c_rating \u001b[38;5;241m=\u001b[39m row[\u001b[38;5;241m10\u001b[39m]\n\u001b[0;32m      5\u001b[0m     \u001b[38;5;28;01mif\u001b[39;00m c_rating \u001b[38;5;129;01min\u001b[39;00m content_ratings:\n",
      "\u001b[1;31mNameError\u001b[0m: name 'apps_data' is not defined"
     ]
    }
   ],
   "source": [
    "content_ratings = {'4+': 0, '9+': 0, '12+': 0, '17+': 0}\n",
    "\n",
    "for row in apps_data[1:]:\n",
    "    c_rating = row[10]\n",
    "    if c_rating in content_ratings:\n",
    "        content_ratings[c_rating] += 1\n",
    "        \n",
    "print(content_ratings)\n"
   ]
  },
  {
   "cell_type": "code",
   "execution_count": 15,
   "id": "d80cf19b-b205-45f7-9a39-bce8c93aa0d3",
   "metadata": {
    "collapsed": true,
    "jupyter": {
     "outputs_hidden": true
    },
    "tags": []
   },
   "outputs": [
    {
     "ename": "NameError",
     "evalue": "name 'apps_data' is not defined",
     "output_type": "error",
     "traceback": [
      "\u001b[1;31m---------------------------------------------------------------------------\u001b[0m",
      "\u001b[1;31mNameError\u001b[0m                                 Traceback (most recent call last)",
      "Input \u001b[1;32mIn [15]\u001b[0m, in \u001b[0;36m<cell line: 2>\u001b[1;34m()\u001b[0m\n\u001b[0;32m      1\u001b[0m content_ratings \u001b[38;5;241m=\u001b[39m {}\n\u001b[1;32m----> 2\u001b[0m \u001b[38;5;28;01mfor\u001b[39;00m row \u001b[38;5;129;01min\u001b[39;00m \u001b[43mapps_data\u001b[49m[\u001b[38;5;241m1\u001b[39m:]:\n\u001b[0;32m      3\u001b[0m     c_rating \u001b[38;5;241m=\u001b[39m row[\u001b[38;5;241m10\u001b[39m]\n\u001b[0;32m      4\u001b[0m     \u001b[38;5;28;01mif\u001b[39;00m c_rating \u001b[38;5;129;01min\u001b[39;00m content_ratings:\n",
      "\u001b[1;31mNameError\u001b[0m: name 'apps_data' is not defined"
     ]
    }
   ],
   "source": [
    "content_ratings = {}\n",
    "for row in apps_data[1:]:\n",
    "    c_rating = row[10]\n",
    "    if c_rating in content_ratings:\n",
    "        content_ratings[c_rating] += 1\n",
    "    else:\n",
    "        content_ratings[c_rating] = 1\n",
    "        \n",
    "print(content_ratings)"
   ]
  },
  {
   "cell_type": "code",
   "execution_count": null,
   "id": "81a49970-88f7-4d39-bbaa-5e602065afdf",
   "metadata": {},
   "outputs": [],
   "source": []
  }
 ],
 "metadata": {
  "kernelspec": {
   "display_name": "Python 3 (ipykernel)",
   "language": "python",
   "name": "python3"
  },
  "language_info": {
   "codemirror_mode": {
    "name": "ipython",
    "version": 3
   },
   "file_extension": ".py",
   "mimetype": "text/x-python",
   "name": "python",
   "nbconvert_exporter": "python",
   "pygments_lexer": "ipython3",
   "version": "3.9.12"
  }
 },
 "nbformat": 4,
 "nbformat_minor": 5
}
