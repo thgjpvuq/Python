{
 "cells": [
  {
   "cell_type": "markdown",
   "id": "81d03d1c",
   "metadata": {},
   "source": [
    "Defining a class"
   ]
  },
  {
   "cell_type": "code",
   "execution_count": 3,
   "id": "8a24b5d2",
   "metadata": {},
   "outputs": [],
   "source": [
    "class MyClass: # Camel Case\n",
    "    pass # pass allows for empty classes without an error"
   ]
  },
  {
   "cell_type": "markdown",
   "id": "84fe1905",
   "metadata": {},
   "source": [
    "`class my_class: # snake_case\n",
    "    pass`"
   ]
  },
  {
   "cell_type": "markdown",
   "id": "a78eb901",
   "metadata": {},
   "source": [
    "Creating an instance or instantiating a class"
   ]
  },
  {
   "cell_type": "code",
   "execution_count": 11,
   "id": "acd95e5e",
   "metadata": {},
   "outputs": [
    {
     "name": "stdout",
     "output_type": "stream",
     "text": [
      "<class '__main__.MyClass'>\n"
     ]
    }
   ],
   "source": [
    "my_instance = MyClass()\n",
    "\n",
    "print(type(my_instance))"
   ]
  },
  {
   "cell_type": "markdown",
   "id": "ddd42dcb",
   "metadata": {},
   "source": [
    "Creating a method for a class"
   ]
  },
  {
   "cell_type": "code",
   "execution_count": 12,
   "id": "4eab73b6",
   "metadata": {},
   "outputs": [],
   "source": [
    "class MyClass:\n",
    "    def first_method():\n",
    "        return 'This is my first method'\n",
    "    \n",
    "my_instance = MyClass()"
   ]
  },
  {
   "cell_type": "code",
   "execution_count": 14,
   "id": "e578d277",
   "metadata": {},
   "outputs": [
    {
     "name": "stdout",
     "output_type": "stream",
     "text": [
      "This is my first method\n"
     ]
    }
   ],
   "source": [
    "class MyClass:\n",
    "    \n",
    "    def first_method(self):\n",
    "        return \"This is my first method\"\n",
    "    \n",
    "my_instance = MyClass()\n",
    "result = my_instance.first_method()\n",
    "print(result)"
   ]
  },
  {
   "cell_type": "markdown",
   "id": "07369ff0",
   "metadata": {},
   "source": [
    "Python methods have phantom arguments when an argument isn't provided. \\n\n",
    "Python inserts the object as an argument for a method."
   ]
  },
  {
   "cell_type": "code",
   "execution_count": 15,
   "id": "6c157c55",
   "metadata": {},
   "outputs": [
    {
     "name": "stdout",
     "output_type": "stream",
     "text": [
      "Hi\n"
     ]
    }
   ],
   "source": [
    "class ExampleClass:\n",
    "    def return_string(self,string):\n",
    "        return string\n",
    "    \n",
    "mc = ExampleClass()\n",
    "result = mc.return_string(\"Hi\")\n",
    "print(result)"
   ]
  },
  {
   "cell_type": "code",
   "execution_count": 18,
   "id": "26ff4769",
   "metadata": {},
   "outputs": [
    {
     "name": "stdout",
     "output_type": "stream",
     "text": [
      "[1, 2, 3]\n"
     ]
    }
   ],
   "source": [
    "class MyClass:\n",
    "    def return_list(self, input_list):\n",
    "        return input_list\n",
    "    \n",
    "my_instance = MyClass()\n",
    "result = my_instance.return_list([1,2,3])\n",
    "print(result)"
   ]
  },
  {
   "cell_type": "markdown",
   "id": "f558141f",
   "metadata": {},
   "source": [
    "Init method"
   ]
  },
  {
   "cell_type": "code",
   "execution_count": 19,
   "id": "101c51ff",
   "metadata": {},
   "outputs": [
    {
     "name": "stdout",
     "output_type": "stream",
     "text": [
      "Hi\n"
     ]
    }
   ],
   "source": [
    "class ExampleClass:\n",
    "    def __init__(self,string):\n",
    "        print(string)\n",
    "        \n",
    "mc = ExampleClass(\"Hi\")"
   ]
  },
  {
   "cell_type": "markdown",
   "id": "07c18e9f",
   "metadata": {},
   "source": [
    "Init method with attribute"
   ]
  },
  {
   "cell_type": "code",
   "execution_count": 20,
   "id": "585cb180",
   "metadata": {},
   "outputs": [],
   "source": [
    "class ExampleClass:\n",
    "\n",
    "    def __init__(self, string):\n",
    "        self.my_attribute = string\n",
    "\n",
    "mc = ExampleClass(\"Hola!\")"
   ]
  },
  {
   "cell_type": "markdown",
   "id": "af492fad",
   "metadata": {},
   "source": [
    "`Attributes store data similar to a variable`\n",
    "`Methods perform actions similar to a function`\n",
    "\n",
    "`object.attribute`\n",
    "`object.method()`"
   ]
  },
  {
   "cell_type": "markdown",
   "id": "7e39dbf0",
   "metadata": {},
   "source": [
    "# Breaking down classes, objects, methods, attributes"
   ]
  },
  {
   "cell_type": "code",
   "execution_count": 25,
   "id": "af8066b2",
   "metadata": {},
   "outputs": [
    {
     "name": "stdout",
     "output_type": "stream",
     "text": [
      "[1, 2, 3, 4, 5]\n"
     ]
    }
   ],
   "source": [
    "class MyList: # creating a class\n",
    "\n",
    "    def __init__(self, initial_data): # defining a method with 2 arguments using the initialize method\n",
    "        self.data = initial_data # assigning an attribute to the method which is the 2nd argument\n",
    "\n",
    "my_list = MyList([1, 2, 3, 4, 5]) # instantiating an object in the MyList class with a list as an argument\n",
    "print(my_list.data) # calling the object with the .data attribute"
   ]
  },
  {
   "cell_type": "code",
   "execution_count": null,
   "id": "88b1c25e",
   "metadata": {},
   "outputs": [],
   "source": []
  }
 ],
 "metadata": {
  "kernelspec": {
   "display_name": "Python 3 (ipykernel)",
   "language": "python",
   "name": "python3"
  },
  "language_info": {
   "codemirror_mode": {
    "name": "ipython",
    "version": 3
   },
   "file_extension": ".py",
   "mimetype": "text/x-python",
   "name": "python",
   "nbconvert_exporter": "python",
   "pygments_lexer": "ipython3",
   "version": "3.9.12"
  }
 },
 "nbformat": 4,
 "nbformat_minor": 5
}
