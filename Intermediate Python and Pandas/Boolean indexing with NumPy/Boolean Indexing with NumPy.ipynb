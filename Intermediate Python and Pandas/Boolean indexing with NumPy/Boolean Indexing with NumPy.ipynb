{
 "cells": [
  {
   "cell_type": "markdown",
   "id": "9860a1b3",
   "metadata": {},
   "source": [
    "# Boolean Indexing with NumPy\n",
    "## Reading in the taxi data\n",
    "\n",
    "---"
   ]
  },
  {
   "cell_type": "code",
   "execution_count": 1,
   "id": "6f2bace6",
   "metadata": {},
   "outputs": [
    {
     "data": {
      "text/plain": [
       "(2014, 15)"
      ]
     },
     "execution_count": 1,
     "metadata": {},
     "output_type": "execute_result"
    }
   ],
   "source": [
    "import numpy as np\n",
    "\n",
    "# the numpy genfromtext function will read in the csv file\n",
    "taxi = np.genfromtxt('nyc_taxis.csv', delimiter=',')\n",
    "taxi_shape = taxi.shape\n",
    "taxi_shape"
   ]
  },
  {
   "cell_type": "code",
   "execution_count": 2,
   "id": "23c66c2c",
   "metadata": {},
   "outputs": [
    {
     "name": "stdout",
     "output_type": "stream",
     "text": [
      "float64\n"
     ]
    }
   ],
   "source": [
    "# use the ndarray.dtype attribute to see the internal datatype\n",
    "print(taxi.dtype)"
   ]
  },
  {
   "cell_type": "markdown",
   "id": "8a07dfa9",
   "metadata": {},
   "source": [
    "The `numpy.genfromtxt()` function includes the header by default. Its `skip_header` parameter allows the header to be removed."
   ]
  },
  {
   "cell_type": "code",
   "execution_count": 3,
   "id": "bcfed35e",
   "metadata": {},
   "outputs": [
    {
     "data": {
      "text/plain": [
       "(2013, 15)"
      ]
     },
     "execution_count": 3,
     "metadata": {},
     "output_type": "execute_result"
    }
   ],
   "source": [
    "taxi = np.genfromtxt('nyc_taxis.csv', delimiter=',', skip_header=1)\n",
    "taxi_shape = taxi.shape\n",
    "taxi_shape"
   ]
  },
  {
   "cell_type": "markdown",
   "id": "8bfa79f9",
   "metadata": {},
   "source": [
    "## Boolean Indexing\n",
    "\n",
    "---"
   ]
  },
  {
   "cell_type": "code",
   "execution_count": 6,
   "id": "0d49be34",
   "metadata": {},
   "outputs": [],
   "source": [
    "a = np.array([1, 2, 3, 4, 5])\n",
    "b = np.array([\"blue\", \"blue\", \"red\", \"blue\"])\n",
    "c = np.array([80.0, 103.4, 96.9, 200.3])\n",
    "\n",
    "a_bool = a < 3\n",
    "b_bool = b == \"blue\"\n",
    "c_bool = c > 100"
   ]
  },
  {
   "cell_type": "code",
   "execution_count": null,
   "id": "22a8b753",
   "metadata": {},
   "outputs": [],
   "source": []
  }
 ],
 "metadata": {
  "kernelspec": {
   "display_name": "Python 3 (ipykernel)",
   "language": "python",
   "name": "python3"
  },
  "language_info": {
   "codemirror_mode": {
    "name": "ipython",
    "version": 3
   },
   "file_extension": ".py",
   "mimetype": "text/x-python",
   "name": "python",
   "nbconvert_exporter": "python",
   "pygments_lexer": "ipython3",
   "version": "3.9.12"
  }
 },
 "nbformat": 4,
 "nbformat_minor": 5
}
