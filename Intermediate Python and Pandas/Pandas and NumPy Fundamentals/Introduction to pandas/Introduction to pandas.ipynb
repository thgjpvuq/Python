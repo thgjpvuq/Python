{
 "cells": [
  {
   "cell_type": "markdown",
   "id": "3c306a40",
   "metadata": {},
   "source": [
    "# Working with Data Frames in pandas\n",
    "\n",
    "---"
   ]
  },
  {
   "cell_type": "code",
   "execution_count": 1,
   "id": "8ddfec8e",
   "metadata": {},
   "outputs": [],
   "source": [
    "import pandas as pd\n",
    "f500 = pd.read_csv('f500.csv',index_col=0)\n",
    "f500.index.name = None"
   ]
  },
  {
   "cell_type": "code",
   "execution_count": 2,
   "id": "5415d136",
   "metadata": {},
   "outputs": [
    {
     "name": "stdout",
     "output_type": "stream",
     "text": [
      "<class 'pandas.core.frame.DataFrame'>\n",
      "(500, 16)\n"
     ]
    }
   ],
   "source": [
    "f500_type = type(f500)\n",
    "f500_shape = f500.shape\n",
    "print(f500_type)\n",
    "print(f500_shape)"
   ]
  },
  {
   "cell_type": "code",
   "execution_count": 3,
   "id": "1d553760",
   "metadata": {},
   "outputs": [],
   "source": [
    "f500_head = f500.head(6)\n",
    "f500_tail = f500.tail(8)"
   ]
  },
  {
   "cell_type": "code",
   "execution_count": 4,
   "id": "1e67121b",
   "metadata": {},
   "outputs": [
    {
     "name": "stdout",
     "output_type": "stream",
     "text": [
      "<class 'pandas.core.frame.DataFrame'>\n",
      "Index: 500 entries, Walmart to AutoNation\n",
      "Data columns (total 16 columns):\n",
      " #   Column                    Non-Null Count  Dtype  \n",
      "---  ------                    --------------  -----  \n",
      " 0   rank                      500 non-null    int64  \n",
      " 1   revenues                  500 non-null    int64  \n",
      " 2   revenue_change            498 non-null    float64\n",
      " 3   profits                   499 non-null    float64\n",
      " 4   assets                    500 non-null    int64  \n",
      " 5   profit_change             436 non-null    float64\n",
      " 6   ceo                       500 non-null    object \n",
      " 7   industry                  500 non-null    object \n",
      " 8   sector                    500 non-null    object \n",
      " 9   previous_rank             500 non-null    int64  \n",
      " 10  country                   500 non-null    object \n",
      " 11  hq_location               500 non-null    object \n",
      " 12  website                   500 non-null    object \n",
      " 13  years_on_global_500_list  500 non-null    int64  \n",
      " 14  employees                 500 non-null    int64  \n",
      " 15  total_stockholder_equity  500 non-null    int64  \n",
      "dtypes: float64(3), int64(7), object(6)\n",
      "memory usage: 66.4+ KB\n"
     ]
    }
   ],
   "source": [
    "f500.info()"
   ]
  },
  {
   "cell_type": "code",
   "execution_count": 5,
   "id": "5435f9eb",
   "metadata": {},
   "outputs": [
    {
     "name": "stdout",
     "output_type": "stream",
     "text": [
      "<class 'pandas.core.series.Series'>\n"
     ]
    }
   ],
   "source": [
    "industries = f500.loc[:,'industry']\n",
    "industries\n",
    "\n",
    "industries_type = type(industries)\n",
    "print(industries_type)"
   ]
  },
  {
   "cell_type": "code",
   "execution_count": 6,
   "id": "6b16765e",
   "metadata": {},
   "outputs": [
    {
     "name": "stdout",
     "output_type": "stream",
     "text": [
      "Walmart                               USA\n",
      "State Grid                          China\n",
      "Sinopec Group                       China\n",
      "China National Petroleum            China\n",
      "Toyota Motor                        Japan\n",
      "                                   ...   \n",
      "Teva Pharmaceutical Industries     Israel\n",
      "New China Life Insurance            China\n",
      "Wm. Morrison Supermarkets         Britain\n",
      "TUI                               Germany\n",
      "AutoNation                            USA\n",
      "Name: country, Length: 500, dtype: object\n",
      "                                revenues  years_on_global_500_list\n",
      "Walmart                           485873                        23\n",
      "State Grid                        315199                        17\n",
      "Sinopec Group                     267518                        19\n",
      "China National Petroleum          262573                        17\n",
      "Toyota Motor                      254694                        23\n",
      "...                                  ...                       ...\n",
      "Teva Pharmaceutical Industries     21903                         1\n",
      "New China Life Insurance           21796                         2\n",
      "Wm. Morrison Supermarkets          21741                        13\n",
      "TUI                                21655                        23\n",
      "AutoNation                         21609                        12\n",
      "\n",
      "[500 rows x 2 columns]\n",
      "                                                ceo  \\\n",
      "Walmart                         C. Douglas McMillon   \n",
      "State Grid                                  Kou Wei   \n",
      "Sinopec Group                             Wang Yupu   \n",
      "China National Petroleum              Zhang Jianhua   \n",
      "Toyota Motor                            Akio Toyoda   \n",
      "...                                             ...   \n",
      "Teva Pharmaceutical Industries    Yitzhak Peterburg   \n",
      "New China Life Insurance                   Wan Feng   \n",
      "Wm. Morrison Supermarkets            David T. Potts   \n",
      "TUI                               Friedrich Joussen   \n",
      "AutoNation                       Michael J. Jackson   \n",
      "\n",
      "                                                       industry  \\\n",
      "Walmart                                   General Merchandisers   \n",
      "State Grid                                            Utilities   \n",
      "Sinopec Group                                Petroleum Refining   \n",
      "China National Petroleum                     Petroleum Refining   \n",
      "Toyota Motor                           Motor Vehicles and Parts   \n",
      "...                                                         ...   \n",
      "Teva Pharmaceutical Industries                  Pharmaceuticals   \n",
      "New China Life Insurance        Insurance: Life, Health (stock)   \n",
      "Wm. Morrison Supermarkets                  Food and Drug Stores   \n",
      "TUI                                             Travel Services   \n",
      "AutoNation                                  Specialty Retailers   \n",
      "\n",
      "                                                sector  \n",
      "Walmart                                      Retailing  \n",
      "State Grid                                      Energy  \n",
      "Sinopec Group                                   Energy  \n",
      "China National Petroleum                        Energy  \n",
      "Toyota Motor                    Motor Vehicles & Parts  \n",
      "...                                                ...  \n",
      "Teva Pharmaceutical Industries             Health Care  \n",
      "New China Life Insurance                    Financials  \n",
      "Wm. Morrison Supermarkets           Food & Drug Stores  \n",
      "TUI                                  Business Services  \n",
      "AutoNation                                   Retailing  \n",
      "\n",
      "[500 rows x 3 columns]\n"
     ]
    }
   ],
   "source": [
    "countries = f500.loc[:,'country']\n",
    "revenues_years = f500.loc[:,['revenues','years_on_global_500_list']]\n",
    "ceo_to_sector = f500.loc[:,'ceo':'sector']\n",
    "\n",
    "print(countries)\n",
    "print(revenues_years)\n",
    "print(ceo_to_sector)"
   ]
  },
  {
   "cell_type": "code",
   "execution_count": 7,
   "id": "29b180f7",
   "metadata": {},
   "outputs": [],
   "source": [
    "toyota = f500.loc['Toyota Motor',:]\n",
    "drink_companies = f500.loc[['Anheuser-Busch InBev','Coca-Cola', 'Heineken Holding'],:]\n",
    "middle_companies = f500.loc['Tata Motors':'Nationwide','rank':'country']"
   ]
  },
  {
   "cell_type": "code",
   "execution_count": 10,
   "id": "c5581cbd",
   "metadata": {},
   "outputs": [],
   "source": [
    "big_movers = f500.loc[['Aviva', 'HP', 'JD.com','BHP Billiton'],['rank', 'previous_rank']]\n",
    "bottom_companies = f500.loc['National Grid':'AutoNation',['rank', 'sector', 'country']]"
   ]
  },
  {
   "cell_type": "code",
   "execution_count": null,
   "id": "d09b271d",
   "metadata": {},
   "outputs": [],
   "source": []
  }
 ],
 "metadata": {
  "kernelspec": {
   "display_name": "Python 3 (ipykernel)",
   "language": "python",
   "name": "python3"
  },
  "language_info": {
   "codemirror_mode": {
    "name": "ipython",
    "version": 3
   },
   "file_extension": ".py",
   "mimetype": "text/x-python",
   "name": "python",
   "nbconvert_exporter": "python",
   "pygments_lexer": "ipython3",
   "version": "3.9.12"
  }
 },
 "nbformat": 4,
 "nbformat_minor": 5
}
