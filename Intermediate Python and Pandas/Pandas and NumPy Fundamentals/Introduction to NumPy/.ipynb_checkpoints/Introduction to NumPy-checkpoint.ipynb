{
 "cells": [
  {
   "cell_type": "code",
   "execution_count": 1,
   "id": "282d1d12",
   "metadata": {},
   "outputs": [],
   "source": [
    "# import the NumPy and csv modules\n",
    "import numpy as np\n",
    "import csv"
   ]
  },
  {
   "cell_type": "markdown",
   "id": "035a666b",
   "metadata": {},
   "source": [
    "# Creating a 1D ndarray\n",
    "\n",
    "---"
   ]
  },
  {
   "cell_type": "code",
   "execution_count": 2,
   "id": "20ff35dc",
   "metadata": {},
   "outputs": [
    {
     "data": {
      "text/plain": [
       "numpy.ndarray"
      ]
     },
     "execution_count": 2,
     "metadata": {},
     "output_type": "execute_result"
    }
   ],
   "source": [
    "data_ndarray = np.array([10, 20, 30])\n",
    "type(data_ndarray)"
   ]
  },
  {
   "cell_type": "markdown",
   "id": "1e13b6b7",
   "metadata": {},
   "source": [
    "# Read in csv as a list of lists\n",
    "\n",
    "---"
   ]
  },
  {
   "cell_type": "code",
   "execution_count": 29,
   "id": "ba5db7a2",
   "metadata": {},
   "outputs": [],
   "source": [
    "# remove scientific notation from array results\n",
    "np.set_printoptions(precision=2, suppress=True)"
   ]
  },
  {
   "cell_type": "code",
   "execution_count": 30,
   "id": "8aa9d0b4",
   "metadata": {},
   "outputs": [
    {
     "data": {
      "text/plain": [
       "array([[2016.  ,    1.  ,    1.  , ...,   11.65,   69.99,    1.  ],\n",
       "       [2016.  ,    1.  ,    1.  , ...,    8.  ,   54.3 ,    1.  ],\n",
       "       [2016.  ,    1.  ,    1.  , ...,    0.  ,   37.8 ,    2.  ],\n",
       "       ...,\n",
       "       [2016.  ,    6.  ,   30.  , ...,    5.  ,   63.34,    1.  ],\n",
       "       [2016.  ,    6.  ,   30.  , ...,    8.95,   44.75,    1.  ],\n",
       "       [2016.  ,    6.  ,   30.  , ...,    0.  ,   54.84,    2.  ]])"
      ]
     },
     "execution_count": 30,
     "metadata": {},
     "output_type": "execute_result"
    }
   ],
   "source": [
    "import csv\n",
    "import numpy as np\n",
    "\n",
    "# import nyc_taxi.csv as a list of lists\n",
    "f = open(\"nyc_taxis.csv\", \"r\")\n",
    "taxi_list = list(csv.reader(f))\n",
    "\n",
    "# remove the header row\n",
    "taxi_list = taxi_list[1:]\n",
    "\n",
    "# convert all values to floats\n",
    "converted_taxi_list = []\n",
    "for row in taxi_list:\n",
    "    converted_row = []\n",
    "    for item in row:\n",
    "        converted_row.append(float(item))\n",
    "    converted_taxi_list.append(converted_row)\n",
    "\n",
    "taxi = np.array(converted_taxi_list)\n",
    "taxi"
   ]
  },
  {
   "cell_type": "code",
   "execution_count": 5,
   "id": "7f187958",
   "metadata": {},
   "outputs": [
    {
     "name": "stdout",
     "output_type": "stream",
     "text": [
      "(30195, 15)\n"
     ]
    }
   ],
   "source": [
    "# find the number of rows and columns with the .shape attribute\n",
    "taxi_shape = taxi.shape\n",
    "print(taxi_shape)"
   ]
  },
  {
   "cell_type": "code",
   "execution_count": 7,
   "id": "2f9d24dd",
   "metadata": {},
   "outputs": [],
   "source": [
    "row_0 = taxi[0]\n",
    "rows_391_to_500 = taxi[391:501]\n",
    "row_21_column_5 = taxi[21][5]"
   ]
  },
  {
   "cell_type": "code",
   "execution_count": 31,
   "id": "fc941439",
   "metadata": {},
   "outputs": [
    {
     "name": "stdout",
     "output_type": "stream",
     "text": [
      "[[ 1.    0.   21.  ]\n",
      " [ 1.    0.   16.29]\n",
      " [ 1.    0.   12.7 ]\n",
      " ...\n",
      " [ 6.    5.   17.48]\n",
      " [ 6.    5.   12.76]\n",
      " [ 6.    5.   17.54]]\n",
      "[   2.      4.     20.91 1744.  ]\n",
      "[2. 1. 1. 1. 1. 1. 2. 1. 1. 2. 1. 1. 1. 2. 2. 2. 1. 2. 1. 2. 1. 1. 2. 2.\n",
      " 2. 1. 1. 2. 1. 2. 1. 1. 2. 2. 1. 1. 2. 2. 1. 1. 1. 2. 1. 1. 1. 2. 2. 2.\n",
      " 2. 2. 1. 4. 2. 1. 2. 1. 2. 2. 2. 2. 1. 1. 2. 1. 2. 2. 2. 2. 1. 2. 2. 1.\n",
      " 2. 1. 2. 1. 2. 2. 1. 1. 1. 1. 2. 1. 1. 2. 2. 1. 1. 2. 2. 1. 1. 2. 1. 1.\n",
      " 1. 1. 1. 2. 2.]\n"
     ]
    }
   ],
   "source": [
    "cols = [1,4,7]\n",
    "columns_1_4_7 = taxi[:, cols]\n",
    "print(columns_1_4_7)\n",
    "\n",
    "row_99_columns_5_to_8 = taxi[99,5:9]\n",
    "print(row_99_columns_5_to_8)\n",
    "\n",
    "rows_100_to_200_column_14 = taxi[100:201,14]\n",
    "print(rows_100_to_200_column_14)"
   ]
  },
  {
   "cell_type": "code",
   "execution_count": 32,
   "id": "68b81280",
   "metadata": {},
   "outputs": [
    {
     "name": "stdout",
     "output_type": "stream",
     "text": [
      "[52.8 46.3 37.8 ... 52.8 35.8 49.3]\n"
     ]
    }
   ],
   "source": [
    "fare_amount = taxi[:,9]\n",
    "fees_amount = taxi[:,10]\n",
    "\n",
    "fare_and_fees = fare_amount + fees_amount\n",
    "print(fare_and_fees)"
   ]
  },
  {
   "cell_type": "code",
   "execution_count": 33,
   "id": "437c04b8",
   "metadata": {},
   "outputs": [],
   "source": [
    "trip_distance_miles = taxi[:,7]\n",
    "trip_length_seconds = taxi[:,8]\n",
    "\n",
    "trip_length_hours = trip_length_seconds / 3600 # 3600 seconds is one hour\n",
    "\n",
    "trip_mph = trip_distance_miles / trip_length_hours"
   ]
  },
  {
   "cell_type": "code",
   "execution_count": 34,
   "id": "703fe7a1",
   "metadata": {},
   "outputs": [
    {
     "name": "stdout",
     "output_type": "stream",
     "text": [
      "0.0 82800.0 170.0\n"
     ]
    }
   ],
   "source": [
    "mph_min = trip_mph.min()\n",
    "mph_max = trip_mph.max()\n",
    "mph_mean = trip_mph.mean()\n",
    "\n",
    "print(mph_min.round(), mph_max.round(), mph_mean.round())"
   ]
  },
  {
   "cell_type": "code",
   "execution_count": 35,
   "id": "c16a7dba",
   "metadata": {},
   "outputs": [
    {
     "name": "stdout",
     "output_type": "stream",
     "text": [
      "[[52.    0.8   5.54 11.65]\n",
      " [45.    1.3   0.    8.  ]\n",
      " [36.5   1.3   0.    0.  ]\n",
      " ...\n",
      " [52.    0.8   5.54  5.  ]\n",
      " [34.5   1.3   0.    8.95]\n",
      " [48.    1.3   5.54  0.  ]]\n"
     ]
    }
   ],
   "source": [
    "print(taxi[:,9:13])"
   ]
  },
  {
   "cell_type": "code",
   "execution_count": 36,
   "id": "c106984f",
   "metadata": {},
   "outputs": [
    {
     "name": "stdout",
     "output_type": "stream",
     "text": [
      "[69.99 54.3  37.8  32.76 18.8 ]\n",
      "[69.99 54.3  37.8  32.76 18.8 ]\n",
      "[69.99 54.3  37.8  32.76 18.8 ]\n"
     ]
    }
   ],
   "source": [
    "# we'll compare against the first 5 rows only\n",
    "taxi_first_five = taxi[:5]\n",
    "# select these columns: fare_amount, fees_amount, tolls_amount, tip_amount\n",
    "fare_components = taxi_first_five[:,9:13]\n",
    "\n",
    "fare_sums = fare_components.sum(axis=1)\n",
    "print(fare_sums)\n",
    "\n",
    "fare_totals = taxi_first_five[:,13]\n",
    "print(fare_totals)\n",
    "print(fare_sums)"
   ]
  },
  {
   "cell_type": "code",
   "execution_count": null,
   "id": "15fc3418",
   "metadata": {},
   "outputs": [],
   "source": []
  }
 ],
 "metadata": {
  "kernelspec": {
   "display_name": "Python 3 (ipykernel)",
   "language": "python",
   "name": "python3"
  },
  "language_info": {
   "codemirror_mode": {
    "name": "ipython",
    "version": 3
   },
   "file_extension": ".py",
   "mimetype": "text/x-python",
   "name": "python",
   "nbconvert_exporter": "python",
   "pygments_lexer": "ipython3",
   "version": "3.9.12"
  }
 },
 "nbformat": 4,
 "nbformat_minor": 5
}
