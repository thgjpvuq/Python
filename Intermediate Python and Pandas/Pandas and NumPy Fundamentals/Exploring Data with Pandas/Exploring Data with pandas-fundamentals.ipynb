{
 "cells": [
  {
   "cell_type": "code",
   "execution_count": 1,
   "id": "f3b8845f",
   "metadata": {},
   "outputs": [
    {
     "name": "stdout",
     "output_type": "stream",
     "text": [
      "<class 'pandas.core.frame.DataFrame'>\n",
      "RangeIndex: 500 entries, 0 to 499\n",
      "Data columns (total 17 columns):\n",
      " #   Column                    Non-Null Count  Dtype  \n",
      "---  ------                    --------------  -----  \n",
      " 0   company                   500 non-null    object \n",
      " 1   rank                      500 non-null    int64  \n",
      " 2   revenues                  500 non-null    int64  \n",
      " 3   revenue_change            498 non-null    float64\n",
      " 4   profits                   499 non-null    float64\n",
      " 5   assets                    500 non-null    int64  \n",
      " 6   profit_change             436 non-null    float64\n",
      " 7   ceo                       500 non-null    object \n",
      " 8   industry                  500 non-null    object \n",
      " 9   sector                    500 non-null    object \n",
      " 10  previous_rank             500 non-null    int64  \n",
      " 11  country                   500 non-null    object \n",
      " 12  hq_location               500 non-null    object \n",
      " 13  website                   500 non-null    object \n",
      " 14  years_on_global_500_list  500 non-null    int64  \n",
      " 15  employees                 500 non-null    int64  \n",
      " 16  total_stockholder_equity  500 non-null    int64  \n",
      "dtypes: float64(3), int64(7), object(7)\n",
      "memory usage: 66.5+ KB\n"
     ]
    }
   ],
   "source": [
    "import pandas as pd\n",
    "f500 = pd.read_csv('f500.csv')\n",
    "\n",
    "f500_head = f500.head(10)\n",
    "f500.info()"
   ]
  },
  {
   "cell_type": "code",
   "execution_count": 2,
   "id": "d6157eac",
   "metadata": {},
   "outputs": [
    {
     "name": "stdout",
     "output_type": "stream",
     "text": [
      "0        0\n",
      "1        0\n",
      "2        1\n",
      "3       -1\n",
      "4        3\n",
      "      ... \n",
      "495   -496\n",
      "496    -70\n",
      "497    -61\n",
      "498    -32\n",
      "499   -500\n",
      "Length: 500, dtype: int64\n"
     ]
    }
   ],
   "source": [
    "rank_change = f500['previous_rank'] - f500['rank']\n",
    "print(rank_change)"
   ]
  },
  {
   "cell_type": "code",
   "execution_count": 3,
   "id": "82b56836",
   "metadata": {},
   "outputs": [],
   "source": [
    "rank_change_max = rank_change.max()\n",
    "rank_change_min = rank_change.min()"
   ]
  },
  {
   "cell_type": "code",
   "execution_count": 4,
   "id": "87e0ac24",
   "metadata": {},
   "outputs": [],
   "source": [
    "rank = f500['rank']\n",
    "rank_desc = rank.describe()\n",
    "\n",
    "prev_rank = f500['previous_rank']\n",
    "prev_rank_desc = prev_rank.describe()"
   ]
  },
  {
   "cell_type": "code",
   "execution_count": 5,
   "id": "66fca2d0",
   "metadata": {},
   "outputs": [],
   "source": [
    "zero_previous_rank = f500['previous_rank'].value_counts().loc[0]"
   ]
  },
  {
   "cell_type": "code",
   "execution_count": 6,
   "id": "7bd60ac0",
   "metadata": {},
   "outputs": [
    {
     "name": "stdout",
     "output_type": "stream",
     "text": [
      "rank                            500.0\n",
      "revenues                     485873.0\n",
      "revenue_change                  442.3\n",
      "profits                       45687.0\n",
      "assets                      3473238.0\n",
      "profit_change                  8909.5\n",
      "previous_rank                   500.0\n",
      "years_on_global_500_list         23.0\n",
      "employees                   2300000.0\n",
      "total_stockholder_equity     301893.0\n",
      "dtype: float64\n"
     ]
    }
   ],
   "source": [
    "max_f500 = f500.max(numeric_only=True)\n",
    "print(max_f500)"
   ]
  },
  {
   "cell_type": "code",
   "execution_count": 7,
   "id": "0d7c35a4",
   "metadata": {},
   "outputs": [],
   "source": [
    "f500_desc = f500.describe()"
   ]
  },
  {
   "cell_type": "code",
   "execution_count": 8,
   "id": "886de404",
   "metadata": {},
   "outputs": [],
   "source": [
    "f500.loc[\"Dow Chemical\", \"ceo\"] = \"Jim Fitterling\""
   ]
  },
  {
   "cell_type": "markdown",
   "id": "980486ac",
   "metadata": {},
   "source": [
    "# Boolean Indexing\n",
    "\n",
    "---"
   ]
  },
  {
   "cell_type": "code",
   "execution_count": 9,
   "id": "7a396ba6",
   "metadata": {},
   "outputs": [],
   "source": [
    "motor_bool = f500['industry'] == 'Motor Vehicles and Parts'\n",
    "f500[motor_bool]\n",
    "motor_countries = f500.loc[motor_bool, 'country']"
   ]
  },
  {
   "cell_type": "code",
   "execution_count": 10,
   "id": "5ec53f59",
   "metadata": {},
   "outputs": [
    {
     "name": "stdout",
     "output_type": "stream",
     "text": [
      "0.0      33\n",
      "1.0       1\n",
      "296.0     1\n",
      "300.0     1\n",
      "334.0     1\n",
      "Name: previous_rank, dtype: int64\n",
      "NaN      34\n",
      "1.0       1\n",
      "302.0     1\n",
      "334.0     1\n",
      "325.0     1\n",
      "Name: previous_rank, dtype: int64\n"
     ]
    }
   ],
   "source": [
    "import numpy as np\n",
    "prev_rank_before = f500[\"previous_rank\"].value_counts(dropna=False).head()\n",
    "print(prev_rank_before)\n",
    "\n",
    "prev_rank_bool = f500['previous_rank'] == 0\n",
    "prev_rank_nan = f500.loc[prev_rank_bool,'previous_rank'] = np.nan\n",
    "\n",
    "prev_rank_after = f500['previous_rank'].value_counts(dropna=False).head()\n",
    "print(prev_rank_after)\n",
    "\n",
    "# to do this in one step:\n",
    "# f500.loc[f500['previous_rank'] == 0,'previous_rank'] = np.nan"
   ]
  },
  {
   "cell_type": "code",
   "execution_count": 11,
   "id": "f12da7f1",
   "metadata": {},
   "outputs": [],
   "source": [
    "f500['rank_change'] = f500['previous_rank'] - f500['rank']\n",
    "rank_change_desc = rank_change.describe()"
   ]
  },
  {
   "cell_type": "code",
   "execution_count": 36,
   "id": "96d6e6b2",
   "metadata": {},
   "outputs": [
    {
     "name": "stdout",
     "output_type": "stream",
     "text": [
      "Banks: Commercial and Savings               8\n",
      "Insurance: Property and Casualty (Stock)    7\n",
      "Name: industry, dtype: int64\n"
     ]
    }
   ],
   "source": [
    "usa = f500[f500['country'] == 'USA']\n",
    "usa.head()\n",
    "\n",
    "industry_usa = usa['industry'].value_counts().head(2)\n",
    "print(industry_usa)"
   ]
  },
  {
   "cell_type": "code",
   "execution_count": 40,
   "id": "5db59d3b",
   "metadata": {},
   "outputs": [
    {
     "name": "stdout",
     "output_type": "stream",
     "text": [
      "Financials     25\n",
      "Energy         22\n",
      "Wholesalers     9\n",
      "Name: sector, dtype: int64\n"
     ]
    }
   ],
   "source": [
    "china = f500[f500['country'] == 'China']\n",
    "china.head()\n",
    "\n",
    "sector_china = china['sector'].value_counts().head(3)\n",
    "print(sector_china)"
   ]
  },
  {
   "cell_type": "code",
   "execution_count": null,
   "id": "7e8958da",
   "metadata": {},
   "outputs": [],
   "source": []
  }
 ],
 "metadata": {
  "kernelspec": {
   "display_name": "Python 3 (ipykernel)",
   "language": "python",
   "name": "python3"
  },
  "language_info": {
   "codemirror_mode": {
    "name": "ipython",
    "version": 3
   },
   "file_extension": ".py",
   "mimetype": "text/x-python",
   "name": "python",
   "nbconvert_exporter": "python",
   "pygments_lexer": "ipython3",
   "version": "3.9.12"
  }
 },
 "nbformat": 4,
 "nbformat_minor": 5
}
