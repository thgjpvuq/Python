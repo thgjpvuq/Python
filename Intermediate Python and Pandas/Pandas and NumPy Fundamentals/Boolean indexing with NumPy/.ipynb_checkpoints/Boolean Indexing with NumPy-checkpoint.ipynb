{
 "cells": [
  {
   "cell_type": "markdown",
   "id": "9860a1b3",
   "metadata": {},
   "source": [
    "# Boolean Indexing with NumPy\n",
    "## Reading in the taxi data\n",
    "\n",
    "---"
   ]
  },
  {
   "cell_type": "code",
   "execution_count": 1,
   "id": "6f2bace6",
   "metadata": {},
   "outputs": [
    {
     "data": {
      "text/plain": [
       "(2014, 15)"
      ]
     },
     "execution_count": 1,
     "metadata": {},
     "output_type": "execute_result"
    }
   ],
   "source": [
    "import numpy as np\n",
    "# remove scientific notation from array results\n",
    "np.set_printoptions(precision=2, suppress=True)\n",
    "\n",
    "# the numpy genfromtext function will read in the csv file\n",
    "taxi = np.genfromtxt('nyc_taxis.csv', delimiter=',')\n",
    "taxi_shape = taxi.shape\n",
    "taxi_shape"
   ]
  },
  {
   "cell_type": "code",
   "execution_count": 2,
   "id": "23c66c2c",
   "metadata": {},
   "outputs": [
    {
     "name": "stdout",
     "output_type": "stream",
     "text": [
      "float64\n"
     ]
    }
   ],
   "source": [
    "# use the ndarray.dtype attribute to see the internal datatype\n",
    "print(taxi.dtype)"
   ]
  },
  {
   "cell_type": "markdown",
   "id": "8a07dfa9",
   "metadata": {},
   "source": [
    "The `numpy.genfromtxt()` function includes the header by default. Its `skip_header` parameter allows the header to be removed."
   ]
  },
  {
   "cell_type": "code",
   "execution_count": 3,
   "id": "bcfed35e",
   "metadata": {},
   "outputs": [
    {
     "data": {
      "text/plain": [
       "(2013, 15)"
      ]
     },
     "execution_count": 3,
     "metadata": {},
     "output_type": "execute_result"
    }
   ],
   "source": [
    "taxi = np.genfromtxt('nyc_taxis.csv', delimiter=',', skip_header=1)\n",
    "taxi_shape = taxi.shape\n",
    "taxi_shape"
   ]
  },
  {
   "cell_type": "markdown",
   "id": "8bfa79f9",
   "metadata": {},
   "source": [
    "## Boolean Indexing\n",
    "\n",
    "---"
   ]
  },
  {
   "cell_type": "code",
   "execution_count": 4,
   "id": "0d49be34",
   "metadata": {},
   "outputs": [],
   "source": [
    "a = np.array([1, 2, 3, 4, 5])\n",
    "b = np.array([\"blue\", \"blue\", \"red\", \"blue\"])\n",
    "c = np.array([80.0, 103.4, 96.9, 200.3])\n",
    "\n",
    "a_bool = a < 3\n",
    "b_bool = b == \"blue\"\n",
    "c_bool = c > 100"
   ]
  },
  {
   "cell_type": "code",
   "execution_count": 5,
   "id": "22a8b753",
   "metadata": {},
   "outputs": [
    {
     "name": "stdout",
     "output_type": "stream",
     "text": [
      "554\n"
     ]
    }
   ],
   "source": [
    "pickup_month = taxi[:,1]\n",
    "\n",
    "january_bool = pickup_month == 1\n",
    "january = pickup_month[january_bool]\n",
    "january_rides = january.shape[0] # use .shape[0] to change the result from a tuple to an int\n",
    "\n",
    "february_bool = pickup_month == 2\n",
    "february = pickup_month[february_bool]\n",
    "february_rides = february.shape[0]\n",
    "\n",
    "march_bool = pickup_month == 3\n",
    "march = pickup_month[march_bool]\n",
    "march_rides = march.shape[0]\n",
    "\n",
    "print(march_rides)"
   ]
  },
  {
   "cell_type": "code",
   "execution_count": 6,
   "id": "eebc5a0a",
   "metadata": {},
   "outputs": [],
   "source": [
    "tip_amount = taxi[:,12]\n",
    "\n",
    "tip_bool = tip_amount > 50\n",
    "\n",
    "top_tips = taxi[tip_bool,5:14]"
   ]
  },
  {
   "cell_type": "code",
   "execution_count": 7,
   "id": "bb892847",
   "metadata": {},
   "outputs": [],
   "source": [
    "# this creates a copy of the taxi ndarray\n",
    "taxi_modified = taxi.copy()"
   ]
  },
  {
   "cell_type": "code",
   "execution_count": 8,
   "id": "257e9c8a",
   "metadata": {},
   "outputs": [
    {
     "name": "stdout",
     "output_type": "stream",
     "text": [
      "4.0\n",
      "1.0\n",
      "[2016. 2016. 2016. ... 2016. 2016. 2016.]\n",
      "[16. 16. 16. ... 16. 16. 16.]\n",
      "[9.88 8.6 ]\n",
      "[12.92 12.92]\n"
     ]
    }
   ],
   "source": [
    "print(taxi_modified[1066,5])\n",
    "taxi_modified[1066,5] = 1\n",
    "print(taxi_modified[1066,5])\n",
    "\n",
    "print(taxi_modified[:,0])\n",
    "taxi_modified[:,0] = 16\n",
    "print(taxi_modified[:,0])\n",
    "\n",
    "print(taxi_modified[550:552,7])\n",
    "taxi_modified[:,7].mean()\n",
    "taxi_modified[550:552,7] = taxi_modified[:,7].mean()\n",
    "print(taxi_modified[550:552,7])"
   ]
  },
  {
   "cell_type": "code",
   "execution_count": 9,
   "id": "99cf3c21",
   "metadata": {},
   "outputs": [],
   "source": [
    "taxi_copy = taxi.copy()\n",
    "\n",
    "total_amount = taxi_copy[:,13]\n",
    "\n",
    "total_amount[total_amount < 0] = 0"
   ]
  },
  {
   "cell_type": "markdown",
   "id": "31b29952",
   "metadata": {},
   "source": [
    "## Boolean indexing with shortcut syntax\n",
    "\n",
    "---"
   ]
  },
  {
   "cell_type": "code",
   "execution_count": 10,
   "id": "bcee0c63",
   "metadata": {},
   "outputs": [
    {
     "name": "stdout",
     "output_type": "stream",
     "text": [
      "[[2016.      1.      1.   ...   69.99    1.      0.  ]\n",
      " [2016.      1.      1.   ...   54.3     1.      0.  ]\n",
      " [2016.      1.      1.   ...   37.8     2.      0.  ]\n",
      " ...\n",
      " [2016.      6.     30.   ...   63.34    1.      0.  ]\n",
      " [2016.      6.     30.   ...   44.75    1.      0.  ]\n",
      " [2016.      6.     30.   ...   54.84    2.      0.  ]]\n"
     ]
    }
   ],
   "source": [
    "# create a new column filled with `0`.\n",
    "zeros = np.zeros([taxi.shape[0], 1])\n",
    "taxi_modified = np.concatenate([taxi, zeros], axis=1)\n",
    "print(taxi_modified)\n",
    "\n",
    "taxi_modified[taxi_modified[:,5] == 2, 15] = 1\n",
    "taxi_modified[taxi_modified[:,5] == 3, 15] = 1\n",
    "taxi_modified[taxi_modified[:,5] == 5, 15] = 1"
   ]
  },
  {
   "cell_type": "code",
   "execution_count": 21,
   "id": "bfca8278",
   "metadata": {},
   "outputs": [
    {
     "name": "stdout",
     "output_type": "stream",
     "text": [
      "285\n",
      "308\n",
      "2\n"
     ]
    }
   ],
   "source": [
    "# count the number of rows that in `dropoff_location_code` that correspond to JFK\n",
    "jfk = taxi[taxi[:,6] == 2]\n",
    "jfk_count = jfk.shape[0]\n",
    "print(jfk_count)\n",
    "\n",
    "laguardia = taxi[taxi[:,6] == 3]\n",
    "laguardia_count = laguardia.shape[0]\n",
    "print(laguardia_count)\n",
    "\n",
    "newark = taxi[taxi[:,6] == 5]\n",
    "newark_count = newark.shape[0]\n",
    "print(newark_count)"
   ]
  },
  {
   "cell_type": "code",
   "execution_count": 36,
   "id": "20809849",
   "metadata": {},
   "outputs": [],
   "source": [
    "trip_mph = taxi[:,7] / (taxi[:,8] / 3600)\n",
    "\n",
    "cleaned_taxi = taxi[trip_mph < 100]\n",
    "cleaned_taxi.shape\n",
    "\n",
    "mean_distance = cleaned_taxi[:,7].mean()\n",
    "mean_length = cleaned_taxi[:,8].mean()\n",
    "mean_total_amount = cleaned_taxi[:,13].mean()"
   ]
  },
  {
   "cell_type": "code",
   "execution_count": null,
   "id": "379558d9",
   "metadata": {},
   "outputs": [],
   "source": []
  }
 ],
 "metadata": {
  "celltoolbar": "Raw Cell Format",
  "kernelspec": {
   "display_name": "Python 3 (ipykernel)",
   "language": "python",
   "name": "python3"
  },
  "language_info": {
   "codemirror_mode": {
    "name": "ipython",
    "version": 3
   },
   "file_extension": ".py",
   "mimetype": "text/x-python",
   "name": "python",
   "nbconvert_exporter": "python",
   "pygments_lexer": "ipython3",
   "version": "3.9.12"
  }
 },
 "nbformat": 4,
 "nbformat_minor": 5
}
